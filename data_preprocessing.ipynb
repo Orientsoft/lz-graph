{
 "cells": [
  {
   "cell_type": "code",
   "execution_count": 39,
   "metadata": {},
   "outputs": [
    {
     "name": "stdout",
     "output_type": "stream",
     "text": [
      "original - nodes: 1631199, edges: 2770964\n",
      "added - nodes: 2624591\n",
      "extra - nodes: 993392, source extra: 555892, target extra: 437500\n"
     ]
    }
   ],
   "source": [
    "# data preprocessing\n",
    "\n",
    "import os\n",
    "import pandas as pd\n",
    "\n",
    "import torch\n",
    "\n",
    "# consts\n",
    "extra_type = 4\n",
    "root_path = '/home/voyager/project/lz-graph/data/'\n",
    "\n",
    "# read original data\n",
    "node_df = pd.read_csv(os.path.join(root_path, 'nodes.csv'))\n",
    "type_list = list(node_df['CUSTOMTYPE'])\n",
    "\n",
    "link_df = pd.read_csv(os.path.join(root_path, 'stat_links.csv'))\n",
    "source_list = list(link_df['source'])\n",
    "target_list = list(link_df['target'])\n",
    "amount_list = list(link_df['sum']) # total transfer amount\n",
    "\n",
    "print('original - nodes: {}, edges: {}'.format(len(type_list), len(source_list)))\n",
    "\n",
    "# add extra nodes\n",
    "source_extra = 0\n",
    "target_extra = 0\n",
    "\n",
    "for i in range(len(source_list)):\n",
    "    source = source_list[i]\n",
    "    target = target_list[i]\n",
    "    \n",
    "    if source == 0:\n",
    "        # create a new node with extra_type\n",
    "        type_list.append(extra_type)\n",
    "        \n",
    "        # rewrite source to new node\n",
    "        source_list[i] = len(type_list) - 1\n",
    "        \n",
    "        source_extra += 1\n",
    "        \n",
    "    if target == 0:\n",
    "        # create a new node with extra_type\n",
    "        type_list.append(extra_type)\n",
    "        \n",
    "        # rewrite target to new node\n",
    "        target_list[i] = len(type_list) - 1\n",
    "        \n",
    "        target_extra += 1\n",
    "\n",
    "print('added - nodes: {}\\nextra - nodes: {}, source extra: {}, target extra: {}'.format(\n",
    "    len(type_list),\n",
    "    source_extra+target_extra,\n",
    "    source_extra,\n",
    "    target_extra\n",
    "))\n",
    "\n",
    "# save\n",
    "with open(os.path.join(root_path, 'extra_type.csv'), 'w') as type_csv:\n",
    "    type_csv.write('id,type\\n')\n",
    "    \n",
    "    for i, node_type in enumerate(type_list):\n",
    "        type_csv.write('{},{}\\n'.format(i, node_type))\n",
    "        \n",
    "with open(os.path.join(root_path, 'extra_link.csv'), 'w') as link_csv:\n",
    "    link_csv.write('id,source,target,amount\\n')\n",
    "    \n",
    "    for i in range(len(source_list)):\n",
    "        link_csv.write('{},{},{},{}\\n'.format(\n",
    "            i,\n",
    "            source_list[i],\n",
    "            target_list[i],\n",
    "            amount_list[i]\n",
    "        ))\n",
    "        "
   ]
  },
  {
   "cell_type": "code",
   "execution_count": null,
   "metadata": {},
   "outputs": [],
   "source": []
  }
 ],
 "metadata": {
  "kernelspec": {
   "display_name": "Python 3",
   "language": "python",
   "name": "python3"
  },
  "language_info": {
   "codemirror_mode": {
    "name": "ipython",
    "version": 3
   },
   "file_extension": ".py",
   "mimetype": "text/x-python",
   "name": "python",
   "nbconvert_exporter": "python",
   "pygments_lexer": "ipython3",
   "version": "3.6.7"
  }
 },
 "nbformat": 4,
 "nbformat_minor": 2
}
