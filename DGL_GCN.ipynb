{
 "cells": [
  {
   "cell_type": "code",
   "execution_count": 18,
   "metadata": {},
   "outputs": [
    {
     "name": "stderr",
     "output_type": "stream",
     "text": [
      "/home/voyager/anaconda3/envs/graph_pytorch/lib/python3.6/site-packages/IPython/core/interactiveshell.py:3049: DtypeWarning: Columns (3) have mixed types. Specify dtype option on import or set low_memory=False.\n",
      "  interactivity=interactivity, compiler=compiler, result=result)\n"
     ]
    },
    {
     "data": {
      "text/html": [
       "<div>\n",
       "<style scoped>\n",
       "    .dataframe tbody tr th:only-of-type {\n",
       "        vertical-align: middle;\n",
       "    }\n",
       "\n",
       "    .dataframe tbody tr th {\n",
       "        vertical-align: top;\n",
       "    }\n",
       "\n",
       "    .dataframe thead th {\n",
       "        text-align: right;\n",
       "    }\n",
       "</style>\n",
       "<table border=\"1\" class=\"dataframe\">\n",
       "  <thead>\n",
       "    <tr style=\"text-align: right;\">\n",
       "      <th></th>\n",
       "      <th>TRANSOURCE</th>\n",
       "      <th>TIME</th>\n",
       "      <th>NAME</th>\n",
       "      <th>ACCTNO</th>\n",
       "      <th>ACCTNO1</th>\n",
       "      <th>TRANAMT</th>\n",
       "      <th>CDFLAG</th>\n",
       "      <th>CUSTOMTYPE</th>\n",
       "    </tr>\n",
       "  </thead>\n",
       "  <tbody>\n",
       "    <tr>\n",
       "      <th>0</th>\n",
       "      <td>88</td>\n",
       "      <td>2015-07-01-00.09.48.687448</td>\n",
       "      <td>NaN</td>\n",
       "      <td>101661000111853</td>\n",
       "      <td>NaN</td>\n",
       "      <td>0.0</td>\n",
       "      <td>C</td>\n",
       "      <td>$null$</td>\n",
       "    </tr>\n",
       "    <tr>\n",
       "      <th>1</th>\n",
       "      <td>61</td>\n",
       "      <td>2015-07-01-00.00.34.024563</td>\n",
       "      <td>郭永刚</td>\n",
       "      <td>78652380011</td>\n",
       "      <td>6214968250550032066</td>\n",
       "      <td>40000.0</td>\n",
       "      <td>D</td>\n",
       "      <td>1</td>\n",
       "    </tr>\n",
       "  </tbody>\n",
       "</table>\n",
       "</div>"
      ],
      "text/plain": [
       "  TRANSOURCE                        TIME NAME           ACCTNO  \\\n",
       "0         88  2015-07-01-00.09.48.687448  NaN  101661000111853   \n",
       "1         61  2015-07-01-00.00.34.024563  郭永刚      78652380011   \n",
       "\n",
       "               ACCTNO1  TRANAMT CDFLAG CUSTOMTYPE  \n",
       "0                  NaN      0.0      C     $null$  \n",
       "1  6214968250550032066  40000.0      D          1  "
      ]
     },
     "execution_count": 18,
     "metadata": {},
     "output_type": "execute_result"
    }
   ],
   "source": [
    "import pandas as pd\n",
    "trans_data = '/home/voyager/data/lz_graph/2015-7data.csv'\n",
    "trans_data = pd.read_csv(trans_data,header = 0 )\n",
    "trans_data.head(2)                                         #ACCTN0 兰州银行客户账号，ACCTNO1 对手账号   #C 进账 ，D 支出  #customtype 1私人账号"
   ]
  },
  {
   "cell_type": "markdown",
   "metadata": {},
   "source": [
    "## 1.CLEAN"
   ]
  },
  {
   "cell_type": "code",
   "execution_count": 19,
   "metadata": {},
   "outputs": [
    {
     "data": {
      "text/plain": [
       "array(['$null$', '1', '2', '3'], dtype=object)"
      ]
     },
     "execution_count": 19,
     "metadata": {},
     "output_type": "execute_result"
    }
   ],
   "source": [
    "trans_data[\"CUSTOMTYPE\"].unique()"
   ]
  },
  {
   "cell_type": "code",
   "execution_count": 20,
   "metadata": {},
   "outputs": [
    {
     "name": "stdout",
     "output_type": "stream",
     "text": [
      "(1630996, 1)\n",
      "(1631198, 4)\n",
      "['0' '1' '2' '3']\n"
     ]
    },
    {
     "name": "stderr",
     "output_type": "stream",
     "text": [
      "/home/voyager/anaconda3/envs/graph_pytorch/lib/python3.6/site-packages/ipykernel_launcher.py:22: FutureWarning: Sorting because non-concatenation axis is not aligned. A future version\n",
      "of pandas will change to not sort by default.\n",
      "\n",
      "To accept the future behavior, pass 'sort=False'.\n",
      "\n",
      "To retain the current behavior and silence the warning, pass 'sort=True'.\n",
      "\n"
     ]
    },
    {
     "data": {
      "text/html": [
       "<div>\n",
       "<style scoped>\n",
       "    .dataframe tbody tr th:only-of-type {\n",
       "        vertical-align: middle;\n",
       "    }\n",
       "\n",
       "    .dataframe tbody tr th {\n",
       "        vertical-align: top;\n",
       "    }\n",
       "\n",
       "    .dataframe thead th {\n",
       "        text-align: right;\n",
       "    }\n",
       "</style>\n",
       "<table border=\"1\" class=\"dataframe\">\n",
       "  <thead>\n",
       "    <tr style=\"text-align: right;\">\n",
       "      <th></th>\n",
       "      <th>id</th>\n",
       "      <th>ACCTNO</th>\n",
       "      <th>CUSTOMTYPE</th>\n",
       "      <th>NAME</th>\n",
       "    </tr>\n",
       "  </thead>\n",
       "  <tbody>\n",
       "    <tr>\n",
       "      <th>0</th>\n",
       "      <td>0</td>\n",
       "      <td>0</td>\n",
       "      <td>0</td>\n",
       "      <td>MISSING</td>\n",
       "    </tr>\n",
       "    <tr>\n",
       "      <th>1</th>\n",
       "      <td>1</td>\n",
       "      <td>6214664260258704</td>\n",
       "      <td>0</td>\n",
       "      <td>NaN</td>\n",
       "    </tr>\n",
       "    <tr>\n",
       "      <th>2</th>\n",
       "      <td>2</td>\n",
       "      <td>101971000295428</td>\n",
       "      <td>1</td>\n",
       "      <td>岳姗姗</td>\n",
       "    </tr>\n",
       "    <tr>\n",
       "      <th>3</th>\n",
       "      <td>3</td>\n",
       "      <td>101541000249350</td>\n",
       "      <td>1</td>\n",
       "      <td>陶婧</td>\n",
       "    </tr>\n",
       "    <tr>\n",
       "      <th>4</th>\n",
       "      <td>4</td>\n",
       "      <td>101221000019976</td>\n",
       "      <td>1</td>\n",
       "      <td>周燕云</td>\n",
       "    </tr>\n",
       "  </tbody>\n",
       "</table>\n",
       "</div>"
      ],
      "text/plain": [
       "   id            ACCTNO CUSTOMTYPE     NAME\n",
       "0   0                 0          0  MISSING\n",
       "1   1  6214664260258704          0      NaN\n",
       "2   2   101971000295428          1      岳姗姗\n",
       "3   3   101541000249350          1       陶婧\n",
       "4   4   101221000019976          1      周燕云"
      ]
     },
     "execution_count": 20,
     "metadata": {},
     "output_type": "execute_result"
    }
   ],
   "source": [
    "import dgl\n",
    "import numpy as np\n",
    "import math\n",
    "nodes_list = trans_data[\"ACCTNO\"].to_list()\n",
    "nodes_list.extend(trans_data[\"ACCTNO1\"])\n",
    "nodes_list = list(set(nodes_list))\n",
    "nodes_list = [x for x in nodes_list  if (str(x)) !='nan' ]\n",
    "nodes_data = pd.DataFrame(nodes_list,columns=['ACCTNO'])   #有type的账号\n",
    "print(nodes_data.shape)\n",
    "\n",
    "list1 = trans_data.filter(items=[\"ACCTNO\",\"NAME\",\"CUSTOMTYPE\"]).drop_duplicates()\n",
    "list1 = list1.loc[list1[\"CUSTOMTYPE\"] != '$null$', :]\n",
    "list1 = list1.loc[list1[\"ACCTNO\"].isin(nodes_list),:]\n",
    "nodes_data = pd.merge(nodes_data,list1,how ='left',on=\"ACCTNO\").reset_index()\n",
    "nodes_data[\"CUSTOMTYPE\"] = nodes_data[\"CUSTOMTYPE\"].fillna(\"0\")   #4 for missing value\n",
    "\n",
    "print(nodes_data.shape)\n",
    "print(nodes_data[\"CUSTOMTYPE\"].unique())\n",
    "\n",
    "missing = []\n",
    "missing.insert(0, {\"ACCTNO\":0,\"CUSTOMTYPE\":0,\"NAME\":\"MISSING\"})\n",
    "nodes_data = pd.concat([pd.DataFrame(missing),nodes_data],ignore_index=True,axis =0)\n",
    "\n",
    "nodes_data.insert(loc = 0 ,column = 'id', value = nodes_data.index)\n",
    "nodes_data.drop(columns = [\"index\"] , inplace = True)\n",
    "\n",
    "nodes_data.to_csv('../lz-graph/data/nodes.csv')\n",
    "nodes_data.head(5)"
   ]
  },
  {
   "cell_type": "code",
   "execution_count": 21,
   "metadata": {},
   "outputs": [
    {
     "data": {
      "text/plain": [
       "1631198"
      ]
     },
     "execution_count": 21,
     "metadata": {},
     "output_type": "execute_result"
    }
   ],
   "source": [
    "max(nodes_data.index)"
   ]
  },
  {
   "cell_type": "code",
   "execution_count": 22,
   "metadata": {},
   "outputs": [
    {
     "data": {
      "text/html": [
       "<div>\n",
       "<style scoped>\n",
       "    .dataframe tbody tr th:only-of-type {\n",
       "        vertical-align: middle;\n",
       "    }\n",
       "\n",
       "    .dataframe tbody tr th {\n",
       "        vertical-align: top;\n",
       "    }\n",
       "\n",
       "    .dataframe thead th {\n",
       "        text-align: right;\n",
       "    }\n",
       "</style>\n",
       "<table border=\"1\" class=\"dataframe\">\n",
       "  <thead>\n",
       "    <tr style=\"text-align: right;\">\n",
       "      <th></th>\n",
       "      <th>source</th>\n",
       "      <th>target</th>\n",
       "      <th>TIME</th>\n",
       "      <th>TRANSOURCE</th>\n",
       "      <th>ACCTNO</th>\n",
       "      <th>ACCTNO1</th>\n",
       "      <th>TRANAMT</th>\n",
       "      <th>CDFLAG</th>\n",
       "    </tr>\n",
       "  </thead>\n",
       "  <tbody>\n",
       "    <tr>\n",
       "      <th>0</th>\n",
       "      <td>327880</td>\n",
       "      <td>0</td>\n",
       "      <td>2015-07-01-00.09.48.687448</td>\n",
       "      <td>88</td>\n",
       "      <td>101661000111853</td>\n",
       "      <td>NaN</td>\n",
       "      <td>0.0</td>\n",
       "      <td>C</td>\n",
       "    </tr>\n",
       "    <tr>\n",
       "      <th>1</th>\n",
       "      <td>338506</td>\n",
       "      <td>316022</td>\n",
       "      <td>2015-07-01-00.00.34.024563</td>\n",
       "      <td>61</td>\n",
       "      <td>78652380011</td>\n",
       "      <td>6214968250550032066</td>\n",
       "      <td>40000.0</td>\n",
       "      <td>D</td>\n",
       "    </tr>\n",
       "    <tr>\n",
       "      <th>2</th>\n",
       "      <td>687244</td>\n",
       "      <td>1471289</td>\n",
       "      <td>2015-07-01-00.00.31.895795</td>\n",
       "      <td>30</td>\n",
       "      <td>102561000017549</td>\n",
       "      <td>101870122410308000002</td>\n",
       "      <td>2000.0</td>\n",
       "      <td>D</td>\n",
       "    </tr>\n",
       "    <tr>\n",
       "      <th>3</th>\n",
       "      <td>534095</td>\n",
       "      <td>167735</td>\n",
       "      <td>2015-07-01-00.00.20.384808</td>\n",
       "      <td>73</td>\n",
       "      <td>101171000141298</td>\n",
       "      <td>101870122410308001000</td>\n",
       "      <td>1.0</td>\n",
       "      <td>D</td>\n",
       "    </tr>\n",
       "    <tr>\n",
       "      <th>4</th>\n",
       "      <td>534095</td>\n",
       "      <td>625375</td>\n",
       "      <td>2015-07-01-00.00.11.019973</td>\n",
       "      <td>73</td>\n",
       "      <td>101671000073599</td>\n",
       "      <td>101870122410308001000</td>\n",
       "      <td>500.0</td>\n",
       "      <td>D</td>\n",
       "    </tr>\n",
       "  </tbody>\n",
       "</table>\n",
       "</div>"
      ],
      "text/plain": [
       "   source   target                        TIME TRANSOURCE           ACCTNO  \\\n",
       "0  327880        0  2015-07-01-00.09.48.687448         88  101661000111853   \n",
       "1  338506   316022  2015-07-01-00.00.34.024563         61      78652380011   \n",
       "2  687244  1471289  2015-07-01-00.00.31.895795         30  102561000017549   \n",
       "3  534095   167735  2015-07-01-00.00.20.384808         73  101171000141298   \n",
       "4  534095   625375  2015-07-01-00.00.11.019973         73  101671000073599   \n",
       "\n",
       "                 ACCTNO1  TRANAMT CDFLAG  \n",
       "0                    NaN      0.0      C  \n",
       "1    6214968250550032066  40000.0      D  \n",
       "2  101870122410308000002   2000.0      D  \n",
       "3  101870122410308001000      1.0      D  \n",
       "4  101870122410308001000    500.0      D  "
      ]
     },
     "execution_count": 22,
     "metadata": {},
     "output_type": "execute_result"
    }
   ],
   "source": [
    "links = pd.merge(trans_data,nodes_data.filter(items = [\"ACCTNO\",\"id\"]),how='left',on ='ACCTNO')\n",
    "links = links.rename(columns = {'id': 'source'})\n",
    "test1 = nodes_data.filter(items = [\"ACCTNO\",\"id\"])\n",
    "test1.columns = [\"ACCTNO1\",\"target\"]\n",
    "                         \n",
    "links = pd.merge(links,test1,how='left',left_on ='ACCTNO1',right_on = 'ACCTNO1')\n",
    "#links = links.rename(columns = {'id': 'target'})\n",
    "links[\"source1\"] = links[\"source\"]\n",
    "links.loc[links[\"CDFLAG\"]==\"D\",\"source\"] = links.loc[links[\"CDFLAG\"]==\"D\",\"target\"]\n",
    "links.loc[links[\"CDFLAG\"]==\"D\",\"target\"] = links.loc[links[\"CDFLAG\"]==\"D\",\"source1\"]\n",
    "links.drop(columns=[\"source1\"] ,inplace = True)\n",
    "links = links.filter(items = [\"source\",\"target\",\"TIME\",\"TRANSOURCE\",\"ACCTNO\",\"ACCTNO1\",\"TRANAMT\",\"CDFLAG\"])\n",
    "links[\"source\"] = links[\"source\"].fillna(0).astype(\"int\")\n",
    "links[\"target\"] = links[\"target\"].fillna(0).astype(\"int\")\n",
    "links.to_csv('../lz-graph/data/links.csv')\n",
    "links.head(5)"
   ]
  },
  {
   "cell_type": "code",
   "execution_count": 23,
   "metadata": {},
   "outputs": [
    {
     "data": {
      "text/plain": [
       "pandas.core.series.Series"
      ]
     },
     "execution_count": 23,
     "metadata": {},
     "output_type": "execute_result"
    }
   ],
   "source": [
    "type(links[\"TIME\"])"
   ]
  },
  {
   "cell_type": "code",
   "execution_count": 24,
   "metadata": {},
   "outputs": [
    {
     "data": {
      "text/html": [
       "<div>\n",
       "<style scoped>\n",
       "    .dataframe tbody tr th:only-of-type {\n",
       "        vertical-align: middle;\n",
       "    }\n",
       "\n",
       "    .dataframe tbody tr th {\n",
       "        vertical-align: top;\n",
       "    }\n",
       "\n",
       "    .dataframe thead th {\n",
       "        text-align: right;\n",
       "    }\n",
       "</style>\n",
       "<table border=\"1\" class=\"dataframe\">\n",
       "  <thead>\n",
       "    <tr style=\"text-align: right;\">\n",
       "      <th></th>\n",
       "      <th>source</th>\n",
       "      <th>target</th>\n",
       "      <th>TIME</th>\n",
       "      <th>TRANSOURCE</th>\n",
       "      <th>ACCTNO</th>\n",
       "      <th>ACCTNO1</th>\n",
       "      <th>TRANAMT</th>\n",
       "      <th>CDFLAG</th>\n",
       "      <th>timestamp</th>\n",
       "    </tr>\n",
       "  </thead>\n",
       "  <tbody>\n",
       "    <tr>\n",
       "      <th>0</th>\n",
       "      <td>327880</td>\n",
       "      <td>0</td>\n",
       "      <td>2015-07-01-00.09.48.687448</td>\n",
       "      <td>88</td>\n",
       "      <td>101661000111853</td>\n",
       "      <td>nan</td>\n",
       "      <td>0.0</td>\n",
       "      <td>C</td>\n",
       "      <td>1.435681e+09</td>\n",
       "    </tr>\n",
       "    <tr>\n",
       "      <th>1</th>\n",
       "      <td>338506</td>\n",
       "      <td>316022</td>\n",
       "      <td>2015-07-01-00.00.34.024563</td>\n",
       "      <td>61</td>\n",
       "      <td>78652380011</td>\n",
       "      <td>6214968250550032066</td>\n",
       "      <td>40000.0</td>\n",
       "      <td>D</td>\n",
       "      <td>1.435680e+09</td>\n",
       "    </tr>\n",
       "  </tbody>\n",
       "</table>\n",
       "</div>"
      ],
      "text/plain": [
       "   source  target                        TIME TRANSOURCE           ACCTNO  \\\n",
       "0  327880       0  2015-07-01-00.09.48.687448         88  101661000111853   \n",
       "1  338506  316022  2015-07-01-00.00.34.024563         61      78652380011   \n",
       "\n",
       "               ACCTNO1  TRANAMT CDFLAG     timestamp  \n",
       "0                  nan      0.0      C  1.435681e+09  \n",
       "1  6214968250550032066  40000.0      D  1.435680e+09  "
      ]
     },
     "execution_count": 24,
     "metadata": {},
     "output_type": "execute_result"
    }
   ],
   "source": [
    "import time\n",
    "links[\"timestamp\"] = (links[\"TIME\"].str[0:19])\n",
    "#links[\"timestamp\"] = pd.to_datetime(links[\"timestamp\"],format = '%Y-%m-%d-%H.%M.%S' )\n",
    "links[\"timestamp\"]  = links[\"timestamp\"].apply(lambda x : time.mktime(time.strptime(x,'%Y-%m-%d-%H.%M.%S')   )) \n",
    "links[\"ACCTNO\"] = links[\"ACCTNO\"].astype(str)  #\n",
    "links[\"ACCTNO1\"] = links[\"ACCTNO1\"].astype(str) \n",
    "links.head(2)"
   ]
  },
  {
   "cell_type": "markdown",
   "metadata": {},
   "source": [
    "## convert edges features to node features"
   ]
  },
  {
   "cell_type": "code",
   "execution_count": null,
   "metadata": {},
   "outputs": [],
   "source": [
    "stat1=links.groupby(['source','target'])[\"TRANAMT\"].agg([\"count\",\"sum\",\"mean\"]).reset_index()"
   ]
  },
  {
   "cell_type": "markdown",
   "metadata": {},
   "source": [
    "# 2.stat"
   ]
  },
  {
   "cell_type": "code",
   "execution_count": 9,
   "metadata": {},
   "outputs": [
    {
     "data": {
      "text/html": [
       "<div>\n",
       "<style scoped>\n",
       "    .dataframe tbody tr th:only-of-type {\n",
       "        vertical-align: middle;\n",
       "    }\n",
       "\n",
       "    .dataframe tbody tr th {\n",
       "        vertical-align: top;\n",
       "    }\n",
       "\n",
       "    .dataframe thead th {\n",
       "        text-align: right;\n",
       "    }\n",
       "</style>\n",
       "<table border=\"1\" class=\"dataframe\">\n",
       "  <thead>\n",
       "    <tr style=\"text-align: right;\">\n",
       "      <th></th>\n",
       "      <th>source</th>\n",
       "      <th>target</th>\n",
       "      <th>count</th>\n",
       "      <th>sum</th>\n",
       "    </tr>\n",
       "  </thead>\n",
       "  <tbody>\n",
       "    <tr>\n",
       "      <th>0</th>\n",
       "      <td>0</td>\n",
       "      <td>2</td>\n",
       "      <td>2</td>\n",
       "      <td>29800.0</td>\n",
       "    </tr>\n",
       "    <tr>\n",
       "      <th>1</th>\n",
       "      <td>0</td>\n",
       "      <td>4</td>\n",
       "      <td>4</td>\n",
       "      <td>15000.0</td>\n",
       "    </tr>\n",
       "    <tr>\n",
       "      <th>2</th>\n",
       "      <td>0</td>\n",
       "      <td>7</td>\n",
       "      <td>1</td>\n",
       "      <td>5.0</td>\n",
       "    </tr>\n",
       "  </tbody>\n",
       "</table>\n",
       "</div>"
      ],
      "text/plain": [
       "   source  target  count      sum\n",
       "0       0       2      2  29800.0\n",
       "1       0       4      4  15000.0\n",
       "2       0       7      1      5.0"
      ]
     },
     "execution_count": 9,
     "metadata": {},
     "output_type": "execute_result"
    }
   ],
   "source": [
    "stat1=links.groupby(['source','target'])[\"TRANAMT\"].agg([\"count\",\"sum\"]).reset_index()\n",
    "stat1 = pd.DataFrame(stat1)\n",
    "stat1.to_csv('../lz-graph/data/stat_links.csv')\n",
    "stat1.head(3)"
   ]
  },
  {
   "cell_type": "code",
   "execution_count": null,
   "metadata": {},
   "outputs": [],
   "source": [
    "# 筛选 2015-07-16 这天的数据\n"
   ]
  },
  {
   "cell_type": "markdown",
   "metadata": {},
   "source": [
    "## 3.GRAPH"
   ]
  },
  {
   "cell_type": "code",
   "execution_count": 10,
   "metadata": {},
   "outputs": [],
   "source": [
    "cleans = links.loc[links[\"TRANAMT\"]>1000,:]\n",
    "import torch as th\n",
    "#nodes_id = th.tensor(nodes_data[\"id\"].astype(\"int\").values)\n",
    "def build_graph(nodes,links):\n",
    "    g = dgl.DGLGraph()\n",
    "    # add 34 nodes into the graph; nodes are labeled from 0~33\n",
    "    g.add_nodes(len(nodes))\n",
    "    edge_list = [tuple(x) for x in links[[\"source\",\"target\"]].values]\n",
    "    src, dst = tuple(zip(*edge_list))\n",
    "    print(type(src))\n",
    "    g.add_edges(src,dst)\n",
    "    #g.edata[\"y\"] = links.as_matrix()\n",
    "    return g"
   ]
  },
  {
   "cell_type": "code",
   "execution_count": 11,
   "metadata": {},
   "outputs": [
    {
     "name": "stdout",
     "output_type": "stream",
     "text": [
      "<class 'tuple'>\n",
      "We have 1631199 nodes.\n",
      "We have 2564961 edges.\n",
      "<class 'dgl.graph.DGLGraph'>\n"
     ]
    }
   ],
   "source": [
    "G = build_graph(nodes = nodes_data,links = cleans)\n",
    "print('We have %d nodes.' % G.number_of_nodes())\n",
    "print('We have %d edges.' % G.number_of_edges())\n",
    "print(type(G))"
   ]
  },
  {
   "cell_type": "markdown",
   "metadata": {},
   "source": [
    "## 4.visalisation \n",
    "(数据太多，无法显示)"
   ]
  },
  {
   "cell_type": "code",
   "execution_count": null,
   "metadata": {},
   "outputs": [],
   "source": [
    "import networkx as nx\n",
    "nx_G = G.to_networkx().to_directed()\n",
    "# Kamada-Kawaii layout usually looks pretty for arbitrary graphs\n",
    "pos = nx.kamada_kawai_layout(nx_G)\n",
    "nx.draw(nx_G, pos, with_labels=True, node_color=[[.7, .7, .7]])"
   ]
  },
  {
   "cell_type": "markdown",
   "metadata": {},
   "source": [
    "## 5.GCN"
   ]
  },
  {
   "cell_type": "code",
   "execution_count": 12,
   "metadata": {},
   "outputs": [],
   "source": [
    "import torch.nn as nn\n",
    "import torch.nn.functional as F\n",
    "\n",
    "# Define the message & reduce function\n",
    "# NOTE: we ignore the GCN's normalization constant c_ij for this tutorial.\n",
    "def gcn_message(edges):\n",
    "    # The argument is a batch of edges.\n",
    "    # This computes a (batch of) message called 'msg' using the source node's feature 'h'.\n",
    "    return {'msg' : edges.src['h']}\n",
    "\n",
    "def gcn_reduce(nodes):\n",
    "    # The argument is a batch of nodes.\n",
    "    # This computes the new 'h' features by summing received 'msg' in each node's mailbox.\n",
    "    return {'h' : torch.sum(nodes.mailbox['msg'], dim=1)}\n",
    "\n",
    "# Define the GCNLayer module\n",
    "class GCNLayer(nn.Module):\n",
    "    def __init__(self, in_feats, out_feats):\n",
    "        super(GCNLayer, self).__init__()\n",
    "        self.linear = nn.Linear(in_feats, out_feats)\n",
    "\n",
    "    def forward(self, g, inputs):\n",
    "        # g is the graph and the inputs is the input node features\n",
    "        # first set the node features                                                  #g:仅仅是图结构，没有节点属性和边属性\n",
    "        g.ndata['h'] = inputs                                                          #don't set edges features\n",
    "        # trigger message passing on all edges\n",
    "        g.send(g.edges(), gcn_message)\n",
    "        # trigger aggregation at all nodes\n",
    "        g.recv(g.nodes(), gcn_reduce)                                                  #按每个点做了聚合===》新的features\n",
    "        # get the result node features\n",
    "        h = g.ndata.pop('h')\n",
    "        # perform linear transformation\n",
    "        return self.linear(h)"
   ]
  },
  {
   "cell_type": "code",
   "execution_count": 13,
   "metadata": {},
   "outputs": [],
   "source": [
    "# Define a 2-layer GCN model\n",
    "class GCN(nn.Module):\n",
    "    def __init__(self, in_feats, hidden_size, num_classes):\n",
    "        super(GCN, self).__init__()\n",
    "        self.gcn1 = GCNLayer(in_feats, hidden_size)\n",
    "        self.gcn2 = GCNLayer(hidden_size, num_classes)\n",
    "\n",
    "    def forward(self, g, inputs):\n",
    "        h = self.gcn1(g, inputs)\n",
    "        h = torch.relu(h)\n",
    "        h = self.gcn2(g, h)\n",
    "        return h\n",
    "# The first layer transforms input features of size of 34 to a hidden size of 5.\n",
    "# The second layer transforms the hidden layer and produces output features of\n",
    "# size 2, corresponding to the two groups of the karate club.\n",
    "net = GCN(4,3, 2)"
   ]
  },
  {
   "cell_type": "code",
   "execution_count": 14,
   "metadata": {},
   "outputs": [
    {
     "name": "stderr",
     "output_type": "stream",
     "text": [
      "/home/voyager/anaconda3/envs/graph_pytorch/lib/python3.6/site-packages/ipykernel_launcher.py:3: FutureWarning: Method .as_matrix will be removed in a future version. Use .values instead.\n",
      "  This is separate from the ipykernel package so we can avoid doing imports until\n"
     ]
    }
   ],
   "source": [
    "import torch\n",
    "\n",
    "customtype = pd.get_dummies(nodes_data[\"CUSTOMTYPE\"].astype(str)).as_matrix()   #convert pandas to pytorch tensor\n",
    "inputs = th.tensor(customtype,dtype = torch.float)   #哑变量  ,,dtype=torch.long  #https://wsonh.com/article/6.html   #nodes的features\n",
    "id0 = nodes_data.loc[nodes_data[\"ACCTNO\"]==\"102561000017549\",\"id\"].values[0]    #来源于数据源，任意取\n",
    "id1 = nodes_data.loc[nodes_data[\"ACCTNO\"]==\"101091000178241\",\"id\"].values[0]    #来源于异常报告，挑选的几个典型的异常点  ，#2015/7/16\n",
    "id2 = nodes_data.loc[nodes_data[\"ACCTNO\"]==\"102192000158598\",\"id\"].values[0]                                           #2015/7/16\n",
    "#id3 = nodes_data.loc[nodes_data[\"ACCTNO\"]==\"102191000178651\",\"id\"].values[0]  #暂时，找不到这个异常点\n",
    "\n",
    "labeled_nodes = th.tensor([id0 ,id1, id2 ])  # only the instructor and the president nodes are labeled\n",
    "labels = th.tensor([0,1,1])  # their labels are different"
   ]
  },
  {
   "cell_type": "code",
   "execution_count": 15,
   "metadata": {},
   "outputs": [
    {
     "name": "stdout",
     "output_type": "stream",
     "text": [
      "torch.FloatTensor\n"
     ]
    }
   ],
   "source": [
    "print(inputs.type())  #torch.unit8"
   ]
  },
  {
   "cell_type": "code",
   "execution_count": 16,
   "metadata": {},
   "outputs": [
    {
     "name": "stderr",
     "output_type": "stream",
     "text": [
      "/home/voyager/anaconda3/envs/graph_pytorch/lib/python3.6/site-packages/dgl/base.py:18: UserWarning: Initializer is not set. Use zero initializer instead. To suppress this warning, use `set_initializer` to explicitly specify which initializer to use.\n",
      "  warnings.warn(msg)\n"
     ]
    },
    {
     "name": "stdout",
     "output_type": "stream",
     "text": [
      "tensor([[-2.6874e+05,  0.0000e+00],\n",
      "        [-3.6490e-01, -1.1850e+00],\n",
      "        [-3.6490e-01, -1.1850e+00],\n",
      "        ...,\n",
      "        [-3.7825e-01, -1.1554e+00],\n",
      "        [-4.0616e-01, -1.0972e+00],\n",
      "        [-3.6490e-01, -1.1850e+00]], device='cuda:0',\n",
      "       grad_fn=<LogSoftmaxBackward>)\n",
      "Epoch 0 | Loss: 0.3127\n",
      "tensor([[-3.1792e+05,  0.0000e+00],\n",
      "        [-3.7106e-01, -1.1712e+00],\n",
      "        [-3.7106e-01, -1.1712e+00],\n",
      "        ...,\n",
      "        [-3.8682e-01, -1.1370e+00],\n",
      "        [-4.1997e-01, -1.0702e+00],\n",
      "        [-3.7106e-01, -1.1712e+00]], device='cuda:0',\n",
      "       grad_fn=<LogSoftmaxBackward>)\n",
      "Epoch 1 | Loss: 0.2884\n",
      "CPU times: user 19min 22s, sys: 3.42 s, total: 19min 25s\n",
      "Wall time: 19min 23s\n"
     ]
    }
   ],
   "source": [
    "%%time\n",
    "import torch\n",
    "optimizer = torch.optim.Adam(net.parameters(), lr=0.01)  #创建优化器\n",
    "all_logits = []\n",
    "# move to gpu\n",
    "device = torch.device('cuda')\n",
    "\n",
    "net = net.to(device)\n",
    "inputs = inputs.to(device)\n",
    "labels = labels.to(device)\n",
    "\n",
    "for epoch in range(2):\n",
    "    logits = net(G, inputs)\n",
    "    # we save the logits for visualization later\n",
    "    all_logits.append(logits.detach())\n",
    "    logp = F.log_softmax(logits, 1)\n",
    "    #print(logp)\n",
    "    # we only compute loss for labeled nodes\n",
    "    loss = F.nll_loss(logp[labeled_nodes], labels)   #mask 可以看重是标记层\n",
    "\n",
    "    optimizer.zero_grad()\n",
    "    loss.backward()\n",
    "    optimizer.step()\n",
    "\n",
    "    print('Epoch %d | Loss: %.4f' % (epoch, loss.item()))"
   ]
  },
  {
   "cell_type": "code",
   "execution_count": null,
   "metadata": {},
   "outputs": [],
   "source": []
  },
  {
   "cell_type": "code",
   "execution_count": null,
   "metadata": {},
   "outputs": [],
   "source": []
  }
 ],
 "metadata": {
  "kernelspec": {
   "display_name": "Python 3",
   "language": "python",
   "name": "python3"
  },
  "language_info": {
   "codemirror_mode": {
    "name": "ipython",
    "version": 3
   },
   "file_extension": ".py",
   "mimetype": "text/x-python",
   "name": "python",
   "nbconvert_exporter": "python",
   "pygments_lexer": "ipython3",
   "version": "3.6.7"
  }
 },
 "nbformat": 4,
 "nbformat_minor": 2
}
